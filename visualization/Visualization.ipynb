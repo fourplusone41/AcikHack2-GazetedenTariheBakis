{
 "cells": [
  {
   "cell_type": "code",
   "execution_count": 1,
   "metadata": {},
   "outputs": [],
   "source": [
    "from flask import Flask\n",
    "from flask_cors import CORS\n",
    "from flask import jsonify\n",
    "from threading import Thread\n",
    "from flask import render_template\n",
    "from flask import request\n",
    "import folium\n",
    "import json,requests"
   ]
  },
  {
   "cell_type": "code",
   "execution_count": 2,
   "metadata": {},
   "outputs": [],
   "source": [
    "def create_map():\n",
    "    _map = folium.Map(location=[38.9597594, 34.9249653],zoom_start=6,tiles=\"Mapbox Control Room\")\n",
    "    cityBoundaries = folium.FeatureGroup(name=\"City Boundaries\")\n",
    "    cityBoundaries.add_child(folium.GeoJson(open(\"cities.json\",\"r\",encoding=\"utf-8-sig\").read(),\n",
    "                                     style_function=lambda city: {'fillColor':\"red\"}))\n",
    "    _map.add_child(cityBoundaries)\n",
    "    _map.add_child(folium.LayerControl())\n",
    "    _map.save(\"turkey.html\")\n",
    "    return _map"
   ]
  },
  {
   "cell_type": "code",
   "execution_count": 3,
   "metadata": {},
   "outputs": [],
   "source": [
    "def show_on_map(_map,locations,word,year):\n",
    "    cities = open(\"cities_of_turkey.json\",\"r+\",encoding=\"utf-8-sig\").read()\n",
    "    cities = json.loads(cities)\n",
    "    for city in cities:\n",
    "        point = [city['latitude'],city['longitude']]\n",
    "        name = city['name']\n",
    "        if name in locations:\n",
    "            folium.Marker(point,popup=[word,year,name],tooltip='Click For More Information').add_to(_map)\n",
    "    _map.save(\"turkey.html\")"
   ]
  },
  {
   "cell_type": "code",
   "execution_count": 46,
   "metadata": {},
   "outputs": [],
   "source": [
    "def convert_to_table(newspapers):\n",
    "    styles = open(\"table.css\",\"r+\",encoding=\"utf-8-sig\").read()\n",
    "    table = \"<table border=1 id='customers'><tr>\"\n",
    "    for key in newspapers['newspapers'][0].keys():\n",
    "        table += \"<th>\"+key+\"</th>\"\n",
    "    table +=\"<tr>\"\n",
    "    for newspaper in newspapers['newspapers']:\n",
    "        table +=\"<tr>\"\n",
    "        counter = 0\n",
    "        for value in newspaper.values():\n",
    "            if counter == 2:\n",
    "                name = \"Gazete\"\n",
    "                table += \"<td>\"+' <a href=\"{}\" target=\"_blank\">{}</a></td>'.format(str(value),name)\n",
    "            else:\n",
    "                table += \"<td>{}</td>\".format(str(value))\n",
    "            counter += 1\n",
    "        table +=\"</tr>\"\n",
    "    table += \"</table>\"\n",
    "    return styles+table"
   ]
  },
  {
   "cell_type": "code",
   "execution_count": 47,
   "metadata": {},
   "outputs": [],
   "source": [
    "def show_on_text():\n",
    "    url = \"APİ_URL\"\n",
    "    headers = {'Content-type': 'application/json'}\n",
    "    r = requests.get(url,headers=headers)\n",
    "    data_str = r.text.replace(\"'\", '\"')\n",
    "    data_json = json.loads(data_str)\n",
    "    locations = []\n",
    "    for newspaper in data_json['newspapers']:\n",
    "        locations.append(newspaper['location'])\n",
    "    return convert_to_table(data_json),locations"
   ]
  },
  {
   "cell_type": "code",
   "execution_count": 48,
   "metadata": {},
   "outputs": [],
   "source": [
    "def crete_text_html(text):\n",
    "    text_html= open(\"text.html\",\"w\",encoding=\"utf-8-sig\")\n",
    "    text_html.write(text)\n",
    "    text_html.close()"
   ]
  },
  {
   "cell_type": "code",
   "execution_count": 49,
   "metadata": {},
   "outputs": [],
   "source": [
    "def start_service():\n",
    "    keyword = \"Nothing\"\n",
    "    year = 0\n",
    "    app  = Flask(__name__)\n",
    "    CORS(app)\n",
    "    \n",
    "    @app.route('/main', methods=['GET'])\n",
    "    def get():\n",
    "        _map = create_map()\n",
    "        keyword = request.args.get('word', None)\n",
    "        year = request.args.get('year', None)\n",
    "        print(keyword,year)\n",
    "        if keyword and year:\n",
    "            text,locations = show_on_text()\n",
    "            crete_text_html(text)\n",
    "            show_on_map(_map,locations,keyword,year)\n",
    "        else:\n",
    "            crete_text_html(\"<h1>NewsPapers List</h1>\")\n",
    "            _map.save(\"turkey.html\")\n",
    "        return open(\"main.html\",\"r+\",encoding=\"utf-8-sig\").read()\n",
    "        \n",
    "    @app.route('/map',methods=['GET'])\n",
    "    def get_map():\n",
    "        return open(\"turkey.html\",\"r+\",encoding=\"utf-8-sig\").read()\n",
    "    \n",
    "    @app.route('/text',methods=['GET'])\n",
    "    def get_text():\n",
    "        return open(\"text.html\",\"r+\",encoding=\"utf-8-sig\").read()\n",
    "    \n",
    "    @app.route('/newspaper',methods=['GET'])\n",
    "    def get_newspaper():\n",
    "#         return open(\"newspaper.html\",\"r+\",encoding=\"utf-8-sig\").read()\n",
    "            return \"Merhaba Rumed\"\n",
    "    \n",
    "    \n",
    "    app.run(host='0.0.0.0', port=5000)"
   ]
  },
  {
   "cell_type": "code",
   "execution_count": 50,
   "metadata": {},
   "outputs": [
    {
     "name": "stdout",
     "output_type": "stream",
     "text": [
      " * Serving Flask app \"__main__\" (lazy loading)\n",
      " * Environment: production\n",
      "   WARNING: This is a development server. Do not use it in a production deployment.\n",
      "   Use a production WSGI server instead.\n",
      " * Debug mode: off\n"
     ]
    },
    {
     "name": "stderr",
     "output_type": "stream",
     "text": [
      " * Running on http://0.0.0.0:5000/ (Press CTRL+C to quit)\n"
     ]
    },
    {
     "name": "stdout",
     "output_type": "stream",
     "text": [
      "fdgfdg 1935\n"
     ]
    },
    {
     "name": "stderr",
     "output_type": "stream",
     "text": [
      "127.0.0.1 - - [29/Jul/2020 23:23:15] \"\u001b[37mGET /main?year=1935&word=fdgfdg HTTP/1.1\u001b[0m\" 200 -\n",
      "127.0.0.1 - - [29/Jul/2020 23:23:15] \"\u001b[37mGET /map HTTP/1.1\u001b[0m\" 200 -\n",
      "127.0.0.1 - - [29/Jul/2020 23:23:15] \"\u001b[37mGET /text HTTP/1.1\u001b[0m\" 200 -\n"
     ]
    }
   ],
   "source": [
    "start_service()"
   ]
  },
  {
   "cell_type": "code",
   "execution_count": null,
   "metadata": {},
   "outputs": [],
   "source": [
    "thread = Thread(target=start_service)"
   ]
  },
  {
   "cell_type": "code",
   "execution_count": null,
   "metadata": {},
   "outputs": [],
   "source": [
    "\n",
    "thread.start()"
   ]
  }
 ],
 "metadata": {
  "kernelspec": {
   "display_name": "Python 3",
   "language": "python",
   "name": "python3"
  },
  "language_info": {
   "codemirror_mode": {
    "name": "ipython",
    "version": 3
   },
   "file_extension": ".py",
   "mimetype": "text/x-python",
   "name": "python",
   "nbconvert_exporter": "python",
   "pygments_lexer": "ipython3",
   "version": "3.7.3"
  }
 },
 "nbformat": 4,
 "nbformat_minor": 2
}
