{
 "cells": [
  {
   "cell_type": "code",
   "execution_count": 32,
   "metadata": {},
   "outputs": [],
   "source": [
    "import requests\n",
    "from bs4 import BeautifulSoup\n",
    "import json\n",
    "import os"
   ]
  },
  {
   "cell_type": "code",
   "execution_count": 33,
   "metadata": {},
   "outputs": [],
   "source": [
    "url= \"http://nek.istanbul.edu.tr:4444/ekos/GAZETE/\"\n",
    "r = requests.get(url)\n",
    "soup = BeautifulSoup(r.content,\"html.parser\")\n",
    "divs = soup.findAll(\"div\", {\"class\": \"col-6 col-sm-6 col-md-4 mb-4 mb-lg-0 col-lg-2\"})"
   ]
  },
  {
   "cell_type": "code",
   "execution_count": 34,
   "metadata": {},
   "outputs": [],
   "source": [
    "def createDirectory(dirPath):\n",
    "    if not os.path.isdir(dirPath):\n",
    "        os.mkdir(dirPath)"
   ]
  },
  {
   "cell_type": "code",
   "execution_count": 46,
   "metadata": {},
   "outputs": [],
   "source": [
    "def write_to_text(paper_json,paper_name):\n",
    "    dirPath = './Papers'\n",
    "    filePath = '{}/{}.txt'.format(dirPath,paper_name)\n",
    "    createDirectory(dirPath)\n",
    "    with open(filePath, 'w') as f:\n",
    "        json.dump(paper_json, f)\n",
    "    print(filePath)"
   ]
  },
  {
   "cell_type": "code",
   "execution_count": 47,
   "metadata": {},
   "outputs": [],
   "source": [
    "def paper_to_json(paper,paper_name):\n",
    "    paper_json_array = []\n",
    "    tables = paper.findAll(\"div\", {\"class\":\"content\"})\n",
    "    for table in tables:#gazetenin yılları\n",
    "        table_body = table.find('table')\n",
    "        rows = table_body.find_all('tr')\n",
    "        del rows[0] #tablonun sütun adları silinir\n",
    "        for row in rows:#pdfs\n",
    "            date = row.find('td').text\n",
    "            url = row.find('a')['href']\n",
    "            paper_json = {}\n",
    "            #paper_json['name'] = paper_name\n",
    "            paper_json['date'] = date\n",
    "            paper_json['url'] = url\n",
    "            paper_json_array.append(paper_json)\n",
    "    write_to_text(paper_json_array,paper_name)"
   ]
  },
  {
   "cell_type": "code",
   "execution_count": 48,
   "metadata": {},
   "outputs": [
    {
     "name": "stdout",
     "output_type": "stream",
     "text": [
      "./Papers/aciksoz.txt\n",
      "./Papers/aksam.txt\n",
      "./Papers/anadolu.txt\n",
      "./Papers/aravelk.txt\n",
      "./Papers/aydin.txt\n",
      "./Papers/beyoglu.txt\n",
      "./Papers/borsa.txt\n",
      "./Papers/bugun.txt\n",
      "./Papers/cumhuriyet.txt\n",
      "./Papers/dogu.txt\n",
      "./Papers/ensondakika.txt\n",
      "./Papers/ensonhavadis.txt\n",
      "./Papers/haber.txt\n",
      "./Papers/hakikat.txt\n",
      "./Papers/hakimiyetimilliye.txt\n",
      "./Papers/hakkinsesi.txt\n",
      "./Papers/halkindili.txt\n",
      "./Papers/halkinsesi.txt\n",
      "./Papers/ikdamhalk.txt\n",
      "./Papers/ikdam.txt\n",
      "./Papers/ikdamsabahpostasi.txt\n",
      "./Papers/izmirpostasi.txt\n",
      "./Papers/jamanak.txt\n",
      "./Papers/kurun.txt\n",
      "./Papers/milliyet.txt\n",
      "./Papers/munakasa.txt\n",
      "./Papers/piyasacetveli.txt\n",
      "./Papers/savas.txt\n",
      "./Papers/sondakika.txt\n",
      "./Papers/sonposta.txt\n",
      "./Papers/sontelgraf.txt\n",
      "./Papers/sonsaat.txt\n",
      "./Papers/tan.txt\n",
      "./Papers/tasviriefkar.txt\n",
      "./Papers/turksozu.txt\n",
      "./Papers/turkdili.txt\n",
      "./Papers/turkischepost.txt\n",
      "./Papers/ulus.txt\n",
      "./Papers/ulussesi.txt\n",
      "./Papers/ulusalbirlik.txt\n",
      "./Papers/vakit.txt\n",
      "./Papers/vatan.txt\n",
      "./Papers/yarin.txt\n",
      "./Papers/yeniasir.txt\n",
      "./Papers/yenimersin.txt\n",
      "./Papers/yenisabah.txt\n",
      "./Papers/yenigun.txt\n",
      "./Papers/yeniyol.txt\n"
     ]
    }
   ],
   "source": [
    "for div in divs:#tüm gazeteler\n",
    "    sub_url = div.find('a')['href']\n",
    "    papers_url = url+sub_url\n",
    "    r = requests.get(papers_url)\n",
    "    paper = BeautifulSoup(r.content,\"html.parser\")\n",
    "    paper_name = str(papers_url).split(\"=\")[1]\n",
    "    paper_to_json(paper,paper_name)"
   ]
  },
  {
   "cell_type": "code",
   "execution_count": null,
   "metadata": {},
   "outputs": [],
   "source": [
    "len(divs)"
   ]
  },
  {
   "cell_type": "code",
   "execution_count": null,
   "metadata": {},
   "outputs": [],
   "source": []
  }
 ],
 "metadata": {
  "kernelspec": {
   "display_name": "Python 3",
   "language": "python",
   "name": "python3"
  },
  "language_info": {
   "codemirror_mode": {
    "name": "ipython",
    "version": 3
   },
   "file_extension": ".py",
   "mimetype": "text/x-python",
   "name": "python",
   "nbconvert_exporter": "python",
   "pygments_lexer": "ipython3",
   "version": "3.7.3"
  },
  "varInspector": {
   "cols": {
    "lenName": 16,
    "lenType": 16,
    "lenVar": 40
   },
   "kernels_config": {
    "python": {
     "delete_cmd_postfix": "",
     "delete_cmd_prefix": "del ",
     "library": "var_list.py",
     "varRefreshCmd": "print(var_dic_list())"
    },
    "r": {
     "delete_cmd_postfix": ") ",
     "delete_cmd_prefix": "rm(",
     "library": "var_list.r",
     "varRefreshCmd": "cat(var_dic_list()) "
    }
   },
   "types_to_exclude": [
    "module",
    "function",
    "builtin_function_or_method",
    "instance",
    "_Feature"
   ],
   "window_display": false
  }
 },
 "nbformat": 4,
 "nbformat_minor": 2
}
