{
 "cells": [
  {
   "cell_type": "code",
   "execution_count": 1,
   "metadata": {},
   "outputs": [],
   "source": [
    "import os,sys\n",
    "from pdf2image import convert_from_path\n",
    "from OCR import Ocr\n"
   ]
  },
  {
   "cell_type": "code",
   "execution_count": 2,
   "metadata": {},
   "outputs": [],
   "source": [
    "def fileName(path):\n",
    "    image = []\n",
    "    with os.scandir(path) as it:\n",
    "        for entry in it:\n",
    "            if entry.name.endswith(\".png\") and entry.is_file():\n",
    "                image.append(entry.name) \n",
    "    return image\n",
    "\n"
   ]
  },
  {
   "cell_type": "code",
   "execution_count": 3,
   "metadata": {},
   "outputs": [],
   "source": [
    "def pdf2png(dirName,pdfFileName):\n",
    "    dpi = 500 # dots per inch\n",
    "    pdf_file = str(dirName)+\"/\"+str(pdfFileName)\n",
    "    pages = convert_from_path(pdf_file ,dpi )\n",
    "    for i in range(len(pages)):\n",
    "        page = pages[i]\n",
    "        page.save(dirName+\"/\"+str('output_{}.png'.format(i)), 'PNG')"
   ]
  },
  {
   "cell_type": "code",
   "execution_count": 4,
   "metadata": {},
   "outputs": [],
   "source": [
    "def createDir(dirName):\n",
    "    try:\n",
    "        os.mkdir(dirName)\n",
    "        print(\"Directory \" , dirName ,  \" Created \") \n",
    "    except FileExistsError:\n",
    "        print(\"Directory \" , dirName ,  \" already exists\")"
   ]
  },
  {
   "cell_type": "code",
   "execution_count": 5,
   "metadata": {},
   "outputs": [],
   "source": [
    "dirName = 'DataSet'\n",
    "pdfFileName = \"anadolu_1938_kanunusani_2_.pdf\"\n",
    "createDir(dirName)\n",
    "pdf2png(dirName,pdfFileName)\n",
    "image = fileName(dirName)\n"
   ]
  },
  {
   "cell_type": "code",
   "execution_count": 6,
   "metadata": {},
   "outputs": [],
   "source": [
    "Ocr(dirName,image)"
   ]
  },
  {
   "cell_type": "code",
   "execution_count": null,
   "metadata": {},
   "outputs": [],
   "source": []
  }
 ],
 "metadata": {
  "kernelspec": {
   "display_name": "Python 3",
   "language": "python",
   "name": "python3"
  },
  "language_info": {
   "codemirror_mode": {
    "name": "ipython",
    "version": 3
   },
   "file_extension": ".py",
   "mimetype": "text/x-python",
   "name": "python",
   "nbconvert_exporter": "python",
   "pygments_lexer": "ipython3",
   "version": "3.7.5"
  }
 },
 "nbformat": 4,
 "nbformat_minor": 2
}
