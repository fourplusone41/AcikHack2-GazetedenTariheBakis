{
 "cells": [
  {
   "cell_type": "code",
   "execution_count": 3,
   "metadata": {},
   "outputs": [],
   "source": [
    "from jpype import JClass, JString, getDefaultJVMPath, shutdownJVM, startJVM"
   ]
  },
  {
   "cell_type": "code",
   "execution_count": 5,
   "metadata": {},
   "outputs": [],
   "source": [
    "startJVM(\n",
    "    getDefaultJVMPath(),\n",
    "    '-ea',\n",
    "    '-Djava.class.path=zemberek-full.jar',\n",
    "    convertStrings=False\n",
    ")"
   ]
  },
  {
   "cell_type": "code",
   "execution_count": 6,
   "metadata": {},
   "outputs": [],
   "source": [
    "Paths: JClass = JClass('java.nio.file.Paths')"
   ]
  },
  {
   "cell_type": "code",
   "execution_count": 39,
   "metadata": {},
   "outputs": [],
   "source": [
    "trainPath = Paths.get(\"./enamex_train.txt\")\n",
    "testPath = Paths.get(\"./enamex_test.txt\")\n",
    "modelRoot = Paths.get(\"./enamex_model\")"
   ]
  },
  {
   "cell_type": "code",
   "execution_count": 42,
   "metadata": {},
   "outputs": [],
   "source": [
    "NerDataSet: JClass=JClass('zemberek.ner.NerDataSet')\n",
    "AnnotationStyle: JClass=JClass('zemberek.ner.NerDataSet.AnnotationStyle')\n",
    "TurkishMorphology: JClass=JClass('zemberek.morphology.TurkishMorphology')\n",
    "PerceptronNerTrainer: JClass=JClass('zemberek.ner.PerceptronNerTrainer')"
   ]
  },
  {
   "cell_type": "code",
   "execution_count": 43,
   "metadata": {},
   "outputs": [],
   "source": [
    "trainingSet = NerDataSet.load(trainPath, AnnotationStyle.ENAMEX);"
   ]
  },
  {
   "cell_type": "code",
   "execution_count": 44,
   "metadata": {},
   "outputs": [
    {
     "data": {
      "text/plain": [
       "'Number of sentences      = 24824\n",
       "Number of tokens         = 428299\n",
       "Type = OUT (Count = 380061, Token Count = 380061 Av. Token = 1.00 )\n",
       "Type = PERSON (Count = 14689, Token Count = 21636 Av. Token = 1.47 )\n",
       "Type = LOCATION (Count = 10535, Token Count = 12135 Av. Token = 1.15 )\n",
       "Type = ORGANIZATION (Count = 8378, Token Count = 14467 Av. Token = 1.73 )'"
      ]
     },
     "execution_count": 44,
     "metadata": {},
     "output_type": "execute_result"
    }
   ],
   "source": [
    "trainingSet.info()"
   ]
  },
  {
   "cell_type": "code",
   "execution_count": 45,
   "metadata": {},
   "outputs": [],
   "source": [
    "testSet = NerDataSet.load(testPath, AnnotationStyle.ENAMEX);"
   ]
  },
  {
   "cell_type": "code",
   "execution_count": 46,
   "metadata": {},
   "outputs": [
    {
     "data": {
      "text/plain": [
       "'Number of sentences      = 2750\n",
       "Number of tokens         = 45465\n",
       "Type = OUT (Count = 40075, Token Count = 40075 Av. Token = 1.00 )\n",
       "Type = PERSON (Count = 1598, Token Count = 2395 Av. Token = 1.50 )\n",
       "Type = LOCATION (Count = 1177, Token Count = 1400 Av. Token = 1.19 )\n",
       "Type = ORGANIZATION (Count = 804, Token Count = 1595 Av. Token = 1.98 )'"
      ]
     },
     "execution_count": 46,
     "metadata": {},
     "output_type": "execute_result"
    }
   ],
   "source": [
    "testSet.info()"
   ]
  },
  {
   "cell_type": "code",
   "execution_count": 47,
   "metadata": {},
   "outputs": [],
   "source": [
    "morphology = TurkishMorphology.createWithDefaults();"
   ]
  },
  {
   "cell_type": "code",
   "execution_count": 48,
   "metadata": {},
   "outputs": [
    {
     "data": {
      "text/plain": [
       "'zemberek.morphology.TurkishMorphology@fcd6521'"
      ]
     },
     "execution_count": 48,
     "metadata": {},
     "output_type": "execute_result"
    }
   ],
   "source": [
    "morphology.toString()"
   ]
  },
  {
   "cell_type": "code",
   "execution_count": 49,
   "metadata": {},
   "outputs": [],
   "source": [
    "ner = PerceptronNerTrainer(morphology).train(trainingSet, testSet, 7, 0.1);"
   ]
  },
  {
   "cell_type": "code",
   "execution_count": 50,
   "metadata": {},
   "outputs": [],
   "source": [
    "ner.saveModelAsText(modelRoot);"
   ]
  },
  {
   "cell_type": "code",
   "execution_count": null,
   "metadata": {},
   "outputs": [],
   "source": []
  }
 ],
 "metadata": {
  "kernelspec": {
   "display_name": "Python 3",
   "language": "python",
   "name": "python3"
  },
  "language_info": {
   "codemirror_mode": {
    "name": "ipython",
    "version": 3
   },
   "file_extension": ".py",
   "mimetype": "text/x-python",
   "name": "python",
   "nbconvert_exporter": "python",
   "pygments_lexer": "ipython3",
   "version": "3.7.3"
  }
 },
 "nbformat": 4,
 "nbformat_minor": 2
}
